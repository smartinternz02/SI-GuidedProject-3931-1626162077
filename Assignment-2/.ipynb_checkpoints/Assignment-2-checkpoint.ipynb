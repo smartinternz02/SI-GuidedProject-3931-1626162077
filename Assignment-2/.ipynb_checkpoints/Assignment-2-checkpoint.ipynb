{
 "cells": [
  {
   "cell_type": "code",
   "execution_count": 1,
   "id": "backed-jewelry",
   "metadata": {},
   "outputs": [
    {
     "name": "stdout",
     "output_type": "stream",
     "text": [
      "Prem\n",
      "11\n",
      "You are not Alice, Kiddo\n"
     ]
    }
   ],
   "source": [
    "# PREM SHARAN S\n",
    "Name = input()\n",
    "Age =  int(input())\n",
    "if (Name == \"Alice\"):\n",
    "    print (\"Hi, Alice\")\n",
    "else:\n",
    "    if Age<12:\n",
    "        print(\"You are not Alice, Kiddo\")\n",
    "    if Age>100 and Age<2000:\n",
    "        print(\"You are not Alice, Grannie\")\n",
    "    if Age>2000:\n",
    "        print(\"Unlike you, Alice is not undead, immortal vampire\")"
   ]
  },
  {
   "cell_type": "code",
   "execution_count": null,
   "id": "coupled-constitutional",
   "metadata": {},
   "outputs": [],
   "source": []
  }
 ],
 "metadata": {
  "kernelspec": {
   "display_name": "Python 3",
   "language": "python",
   "name": "python3"
  },
  "language_info": {
   "codemirror_mode": {
    "name": "ipython",
    "version": 3
   },
   "file_extension": ".py",
   "mimetype": "text/x-python",
   "name": "python",
   "nbconvert_exporter": "python",
   "pygments_lexer": "ipython3",
   "version": "3.8.10"
  }
 },
 "nbformat": 4,
 "nbformat_minor": 5
}
